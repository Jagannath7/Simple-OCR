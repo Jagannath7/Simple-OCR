{
  "nbformat": 4,
  "nbformat_minor": 0,
  "metadata": {
    "colab": {
      "name": "SpeechRecog.ipynb",
      "provenance": [],
      "authorship_tag": "ABX9TyN4eYU5y9I0CBRrTeYGkQwt"
    },
    "kernelspec": {
      "name": "python3",
      "display_name": "Python 3"
    }
  },
  "cells": [
    {
      "cell_type": "code",
      "metadata": {
        "id": "vB1m-YEXDDTt",
        "colab_type": "code",
        "colab": {}
      },
      "source": [
        "pip install SpeechRecognition"
      ],
      "execution_count": 0,
      "outputs": []
    },
    {
      "cell_type": "code",
      "metadata": {
        "id": "Hlf1jd4lDEw3",
        "colab_type": "code",
        "colab": {}
      },
      "source": [
        "!pip install pyaudio"
      ],
      "execution_count": 0,
      "outputs": []
    },
    {
      "cell_type": "code",
      "metadata": {
        "id": "jxGKj0IaDGvo",
        "colab_type": "code",
        "colab": {}
      },
      "source": [
        "import speech_recognition as sr\n",
        "import pyaudio"
      ],
      "execution_count": 0,
      "outputs": []
    },
    {
      "cell_type": "code",
      "metadata": {
        "id": "_jt6GHHWDG0d",
        "colab_type": "code",
        "colab": {}
      },
      "source": [
        "sr.Microphone.list_microphone_names() #Please Make Sure Your Microphone Is Enabled and Choose Your Microphone"
      ],
      "execution_count": 0,
      "outputs": []
    },
    {
      "cell_type": "code",
      "metadata": {
        "id": "PenjJyNqF5-S",
        "colab_type": "code",
        "colab": {}
      },
      "source": [
        "r1 = sr.Recognizer()\n",
        "r2 = sr.Recognizer()\n",
        "\n",
        "with sr.Microphone(device_index=1) as source:\n",
        "    audi = r1.listen(source)\n",
        "    if 'hi' in r1.recognize_google(audi):\n",
        "        print(\"speak\")\n",
        "        try:\n",
        "                with sr.Microphone(device_index=1) as source:\n",
        "                        audio = r2.listen(source)\n",
        "                        get = r2.recognize_google(audio)\n",
        "                        print(get)\n",
        "                        #append func to be added\n",
        "        except sr.UnknownValueError:\n",
        "            print(\"not found\")\n",
        "        except sr.RequestError as re:\n",
        "            print(\"Network Problem\".e)\n",
        "    else:\n",
        "          print('try again')"
      ],
      "execution_count": 0,
      "outputs": []
    },
    {
      "cell_type": "code",
      "metadata": {
        "id": "cgvOQda2GBs1",
        "colab_type": "code",
        "colab": {}
      },
      "source": [
        ""
      ],
      "execution_count": 0,
      "outputs": []
    },
    {
      "cell_type": "code",
      "metadata": {
        "id": "3ImnN5RgECTl",
        "colab_type": "code",
        "colab": {}
      },
      "source": [
        ""
      ],
      "execution_count": 0,
      "outputs": []
    }
  ]
}