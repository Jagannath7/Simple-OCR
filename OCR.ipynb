{
  "nbformat": 4,
  "nbformat_minor": 0,
  "metadata": {
    "colab": {
      "name": "OCR.ipynb",
      "provenance": [],
      "authorship_tag": "ABX9TyMRb/bwWqwLttnd7pgz2eZ0"
    },
    "kernelspec": {
      "name": "python3",
      "display_name": "Python 3"
    }
  },
  "cells": [
    {
      "cell_type": "code",
      "metadata": {
        "id": "61vwkA6KGOyk",
        "colab_type": "code",
        "colab": {}
      },
      "source": [
        "pip install google-cloud-vision"
      ],
      "execution_count": 0,
      "outputs": []
    },
    {
      "cell_type": "code",
      "metadata": {
        "id": "_EKOaMIrGPvi",
        "colab_type": "code",
        "colab": {}
      },
      "source": [
        "import os, io\n",
        "from google.cloud import vision\n",
        "from google.cloud.vision import types\n",
        "from matplotlib import pyplot as plt \n",
        "from matplotlib import patches as pch"
      ],
      "execution_count": 0,
      "outputs": []
    },
    {
      "cell_type": "code",
      "metadata": {
        "id": "rAHosb9pGP1-",
        "colab_type": "code",
        "colab": {}
      },
      "source": [
        "os.environ['GOOGLE_APPLICATION_CREDENTIALS'] = os.path.join(os.curdir, 'credentials.json') "
      ],
      "execution_count": 0,
      "outputs": []
    },
    {
      "cell_type": "code",
      "metadata": {
        "id": "emz-jmLFGP7c",
        "colab_type": "code",
        "colab": {}
      },
      "source": [
        "client = vision.ImageAnnotatorClient()"
      ],
      "execution_count": 0,
      "outputs": []
    },
    {
      "cell_type": "code",
      "metadata": {
        "id": "IculzLAsGP50",
        "colab_type": "code",
        "colab": {}
      },
      "source": [
        "f = 'filename.jpg'\n",
        "with io.open(f, 'rb') as image: \n",
        "    content = image.read() \n",
        "      \n",
        "image = vision.types.Image(content = content) \n",
        "response = client.text_detection(image = image) \n",
        "texts = response.text_annotations \n",
        "  \n",
        "a = plt.imread(f) \n",
        "fig, ax = plt.subplots(1)  \n",
        "  \n",
        "for text in texts: \n",
        "    print(text.description) \n",
        "      \n",
        "    vertices = ([(vertex.x, vertex.y)  \n",
        "                 for vertex in text.bounding_poly.vertices])  \n",
        "    \n",
        "    rect = pch.Rectangle(vertices[0], (vertices[1][0] - vertices[0][0]),  \n",
        "                        (vertices[2][1] - vertices[0][1]), linewidth = 1,  \n",
        "                                       edgecolor ='r', facecolor ='none')  \n",
        "    ax.add_patch(rect) \n",
        "plt.show()"
      ],
      "execution_count": 0,
      "outputs": []
    }
  ]
}